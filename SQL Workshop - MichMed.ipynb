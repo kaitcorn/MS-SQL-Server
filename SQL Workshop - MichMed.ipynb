{
 "cells": [
  {
   "cell_type": "code",
   "execution_count": 1,
   "metadata": {
    "slideshow": {
     "slide_type": "skip"
    }
   },
   "outputs": [
    {
     "name": "stdout",
     "output_type": "stream",
     "text": [
      "Populating the interactive namespace from numpy and matplotlib\n"
     ]
    }
   ],
   "source": [
    "%pylab inline"
   ]
  },
  {
   "cell_type": "markdown",
   "metadata": {
    "slideshow": {
     "slide_type": "slide"
    }
   },
   "source": [
    "<hr>\n",
    "# Introduction to MS SQL Server\n",
    "\n",
    "By Kaitlin Cornwell and Alex Cao  \n",
    "\n",
    "\n",
    "April 20, 2018  \n",
    "\n",
    "<a href=\"http://cscar.research.umich.edu/\" target=\"_blank\">CSCAR</a> at The University of Michigan"
   ]
  },
  {
   "cell_type": "markdown",
   "metadata": {
    "slideshow": {
     "slide_type": "fragment"
    }
   },
   "source": [
    "Please fill out the workshop sign-in <a href=\"https://goo.gl/forms/kLpPDHKlwZIV5ZpD2\" target=\"_blank\">here</a>\n"
   ]
  },
  {
   "cell_type": "markdown",
   "metadata": {
    "slideshow": {
     "slide_type": "fragment"
    }
   },
   "source": [
    "We'll practice our MS SQL Server queries using SQL Server Management Studio (a.k.a. SSMS)."
   ]
  },
  {
   "cell_type": "markdown",
   "metadata": {
    "slideshow": {
     "slide_type": "fragment"
    }
   },
   "source": [
    "Structured Query Language (\"SQL\") allows you to extract or change specific information in a relational database (i.e. a series of tables). "
   ]
  },
  {
   "cell_type": "markdown",
   "metadata": {
    "slideshow": {
     "slide_type": "fragment"
    }
   },
   "source": [
    "MySQL, SQLite, PostgreSQL, MS SQL Server, etc. are all database management systems that rely on SQL. Each has its own special variety of SQL, but the general format of the queries is the same. The flavor of SQL for MS SQL Server is Transact-SQL or T-SQL. Make sure you include T-SQL when you are googling for solutions otherwise you might get a solution for another database type."
   ]
  },
  {
   "cell_type": "markdown",
   "metadata": {
    "slideshow": {
     "slide_type": "slide"
    }
   },
   "source": [
    "# SQL Queries\n",
    "\n",
    "## Format\n",
    "Series of commands followed by argument(s)\n",
    "\n",
    "When dealing with multiple tables, identify a column name with tablename.columnname (required if there is more than one column with the same name)\n",
    "\n",
    "End query with semicolon for multiple consecutive queries\n",
    "\n",
    "## Style + Readability\n",
    "Table names and column names can be case sensitive. For MS SQL Server, it is NOT case sensitive. Depends on the database. \n",
    "\n",
    "SQL keywords are NOT case sensitive\n",
    "\n",
    "Standard format: Commands in all-caps\n",
    "\n",
    "Each command set on new line\n",
    "\n",
    "## Comments\n",
    "Single-line comments:\n",
    "\n",
    "-- begin line with two hyphens\n",
    "\n",
    "Multi-line comments:\n",
    "\n",
    "/\\* enclose comment\n",
    "in asterisk|slashes \\*/"
   ]
  },
  {
   "cell_type": "markdown",
   "metadata": {
    "slideshow": {
     "slide_type": "slide"
    }
   },
   "source": [
    "# SELECT, FROM, AS\n",
    "The SELECT command specifies the desired columns \n",
    "\n",
    "The FROM command specifies the table from which those columns should be selected\n",
    "\n",
    "The AS command temporarily renames a column or table with the specified name (an \"alias\")\n",
    "\n",
    "An '\\*' character selects all columns in a table"
   ]
  },
  {
   "cell_type": "markdown",
   "metadata": {
    "slideshow": {
     "slide_type": "fragment"
    }
   },
   "source": [
    "## Example\n",
    "To retrieve all items from the resource catalog of items used in surgical cases:\n",
    "\n",
    "**SELECT *  \n",
    "FROM itmcat**"
   ]
  },
  {
   "cell_type": "markdown",
   "metadata": {
    "slideshow": {
     "slide_type": "fragment"
    }
   },
   "source": [
    "To retieve only the item manufacturer number, item description, and the date the item was added to the resource catalog, you would use the command:\n",
    "\n",
    "**SELECT itm_altdesc, itm_procat, itm_adddate  \n",
    "FROM itmcat**"
   ]
  },
  {
   "cell_type": "markdown",
   "metadata": {
    "slideshow": {
     "slide_type": "fragment"
    }
   },
   "source": [
    "To do the above while renaming the columns:\n",
    "\n",
    "**SELECT itm_altdesc AS 'Item description', itm_procat AS Category, itm_adddate AS [Date added]  \n",
    "FROM itmcat**"
   ]
  },
  {
   "cell_type": "markdown",
   "metadata": {
    "slideshow": {
     "slide_type": "subslide"
    }
   },
   "source": [
    "## Practice 1\n",
    "In the table that contains product category information (prdmas), retreive all columns except prd_order, prd_dpcorder, and prd_serial. Rename prd_code and prd_catgry, but call them \"Code\" and \"Product Category\".\n",
    "\n",
    "Include a comment in your solution"
   ]
  },
  {
   "cell_type": "markdown",
   "metadata": {
    "collapsed": true,
    "slideshow": {
     "slide_type": "slide"
    }
   },
   "source": [
    "# COUNT\n",
    "COUNT returns the number of non-null results in the specified column or the number of non-null rows. "
   ]
  },
  {
   "cell_type": "markdown",
   "metadata": {
    "slideshow": {
     "slide_type": "fragment"
    }
   },
   "source": [
    "## Example\n",
    "To count the number of non-null rows from the itmcat table:\n",
    "\n",
    "**SELECT COUNT(*)  \n",
    "FROM itmcat**"
   ]
  },
  {
   "cell_type": "markdown",
   "metadata": {
    "slideshow": {
     "slide_type": "subslide"
    }
   },
   "source": [
    "## Practice 2\n",
    "Count the number of non-null serial numbers in the cstinv table. Rename the table \"cost inventory\"."
   ]
  },
  {
   "cell_type": "markdown",
   "metadata": {
    "collapsed": true,
    "slideshow": {
     "slide_type": "slide"
    }
   },
   "source": [
    "# WHERE, AND, OR\n",
    "The WHERE command retrieves rows that satisfy a given condition\n",
    "\n",
    "Simple conditions:\n",
    "- =          Equals  \n",
    "- != or <>   Does not equal\n",
    "- \\> or <    Is greater/less than\n",
    "- \\>= or <=  Is greater/less than or equal to\n",
    "\n",
    "Additional conditions covered in following slides:\n",
    "- a AND b\n",
    "- a OR b\n",
    "- BETWEEN a AND b\n",
    "- IN ('a','b','c')\n",
    "- LIKE 'a'\n",
    "\n",
    "BETWEEN, IN, and LIKE can all be modified using the \"NOT\" keyword to retrieve rows that are not a match\n",
    "    "
   ]
  },
  {
   "cell_type": "markdown",
   "metadata": {
    "slideshow": {
     "slide_type": "fragment"
    }
   },
   "source": [
    "## Example\n",
    "Using the 'itmcat' table, use this query to retrieve all items added before 2015:\n",
    "\n",
    "**SELECT *  \n",
    "FROM itmcat  \n",
    "WHERE itm_adddate < '2015-01-01'**\n",
    "    \n",
    "Note: itm_adddate is of type string instead of date. This command works because the date is specified in the correct order: 'YYYY-MM-DD'."
   ]
  },
  {
   "cell_type": "markdown",
   "metadata": {
    "slideshow": {
     "slide_type": "fragment"
    }
   },
   "source": [
    "Filter out items that are listed as inactive:\n",
    "\n",
    "**SELECT *  \n",
    "FROM itmcat  \n",
    "WHERE itm_inact != 'I'**"
   ]
  },
  {
   "cell_type": "markdown",
   "metadata": {
    "slideshow": {
     "slide_type": "fragment"
    }
   },
   "source": [
    "Applying both filters: \n",
    "\n",
    "**SELECT *\n",
    "FROM itmcat  \n",
    "WHERE itm_inact != 'I' AND itm_adddate < '2015-01-01'**"
   ]
  },
  {
   "cell_type": "markdown",
   "metadata": {
    "slideshow": {
     "slide_type": "fragment"
    }
   },
   "source": [
    "Applying either filter:\n",
    "\n",
    "**SELECT *  \n",
    "FROM itmcat  \n",
    "WHERE itm_inact != 'I' OR itm_adddate < '2015-01-01'**"
   ]
  },
  {
   "cell_type": "markdown",
   "metadata": {
    "slideshow": {
     "slide_type": "subslide"
    }
   },
   "source": [
    "## Practice 3\n",
    "Retrieve a list from the cstinv table of items with a lasupd starting in 2017 with a serial number of less than 100,000, or items with a lasupd before 2010 and that is located in \"MOTT OR SP\" (column inv_cstctr)."
   ]
  },
  {
   "cell_type": "markdown",
   "metadata": {
    "collapsed": true,
    "slideshow": {
     "slide_type": "slide"
    }
   },
   "source": [
    "# BETWEEN, IN, and LIKE (wildcards)\n",
    "\n",
    "## Between\n",
    "\n",
    "The BETWEEN command gives a range of values (inclusive)\n",
    "\n",
    "BETWEEN can be modified using the \"NOT\" keyword to retrieve rows that are not a match"
   ]
  },
  {
   "cell_type": "markdown",
   "metadata": {
    "slideshow": {
     "slide_type": "fragment"
    }
   },
   "source": [
    "## Example\n",
    "To retrieve all items added in April 2014:\n",
    "\n",
    "**Select *  \n",
    "FROM itmcat  \n",
    "WHERE itm_adddate BETWEEN '2014-04-01' AND '2014-04-30'**"
   ]
  },
  {
   "cell_type": "markdown",
   "metadata": {
    "collapsed": true,
    "slideshow": {
     "slide_type": "fragment"
    }
   },
   "source": [
    "## IN\n",
    "The IN command gives multiple possible matching values"
   ]
  },
  {
   "cell_type": "markdown",
   "metadata": {
    "slideshow": {
     "slide_type": "fragment"
    }
   },
   "source": [
    "## Example\n",
    "Rerieve item names that do not have the product categories BURS or INST:\n",
    "\n",
    "**SELECT itm_altdesc  \n",
    "FROM itmcat  \n",
    "WHERE itm_procat NOT IN ('BURS', 'INST')**"
   ]
  },
  {
   "cell_type": "markdown",
   "metadata": {
    "slideshow": {
     "slide_type": "fragment"
    }
   },
   "source": [
    "## LIKE, wildcards\n",
    "The LIKE command specifies a pattern to match, such as 'DNU' or '2016'. \n",
    "\n",
    "### Wildcards\n",
    "\n",
    "Wildcards are characters that stand in for a range of possible values. \n",
    "\n",
    "Wildcards include:  \n",
    "% : A string of 0+ characters\n",
    "\n",
    "_ : A single character  \n",
    "\n",
    "[...] : A single character from the range or list in the brackets  \n",
    "\n",
    "[^...] : A single character not from the range or list in the brackets  \n",
    "\n",
    "Without any wildcards, LIKE will match only values equal to the exact pattern.\n",
    "\n",
    "### Reference\n",
    "https://docs.microsoft.com/en-us/sql/t-sql/language-elements/like-transact-sql?view=sql-server-2017"
   ]
  },
  {
   "cell_type": "markdown",
   "metadata": {
    "slideshow": {
     "slide_type": "fragment"
    }
   },
   "source": [
    "## Example\n",
    "To match all items with names starting with DNU, use this query:\n",
    "\n",
    "**SELECT *  \n",
    "FROM itmcat  \n",
    "WHERE itm_altdesc LIKE 'DNU%'**"
   ]
  },
  {
   "cell_type": "markdown",
   "metadata": {
    "slideshow": {
     "slide_type": "fragment"
    }
   },
   "source": [
    "To match all items with names starting with letters A-D or K-Z, we can use the query:\n",
    "\n",
    "**SELECT *  \n",
    "FROM itmcat  \n",
    "WHERE itm_altdesc LIKE '[^E-J]%'**"
   ]
  },
  {
   "cell_type": "markdown",
   "metadata": {
    "slideshow": {
     "slide_type": "subslide"
    }
   },
   "source": [
    "## Practice 4\n",
    "1\\. From the cstctr table, retreive the serial number, description, and site for items with auxnum1 between 200000 and 210000 and that are located in either KEC or MOTT.\n",
    "\n",
    "2\\. From the cstctr table, retreive all information about items from two- or three-letter sites.\n",
    "\n",
    "3\\. From the cstinv table, retrieve the serial number, item number, and cstctr for items with a cstctr where the second part of the code begins with an F"
   ]
  },
  {
   "cell_type": "markdown",
   "metadata": {
    "slideshow": {
     "slide_type": "slide"
    }
   },
   "source": [
    "# DISTINCT\n",
    "The DISTINCT command retrieves only distinct combinations of the specified columns.\n",
    "\n",
    "It is also commonly used in combination with COUNT to return the number of distinct combinations."
   ]
  },
  {
   "cell_type": "markdown",
   "metadata": {
    "slideshow": {
     "slide_type": "fragment"
    }
   },
   "source": [
    "## Example\n",
    "To retrieve all past combinations of item categories and manufacturers:\n",
    "\n",
    "**SELECT DISTINCT itm_procat, itm_mfgcod  \n",
    "FROM itmcat**"
   ]
  },
  {
   "cell_type": "markdown",
   "metadata": {
    "slideshow": {
     "slide_type": "fragment"
    }
   },
   "source": [
    "To count the number of distinct item categories:\n",
    "\n",
    "**SELECT COUNT(DISTINCT itm_procat)  \n",
    "FROM itmcat**\n",
    "\n",
    "Note: SQL Server does not support COUNT DISTINCT for multiple columns. There are other ways to do this. We will see examples later."
   ]
  },
  {
   "cell_type": "markdown",
   "metadata": {
    "slideshow": {
     "slide_type": "subslide"
    }
   },
   "source": [
    "## Practice \n",
    "Retrieve all distinct combinations of item descriptions and item procats from the itmcat table where the item description contains the metric unit (cm)."
   ]
  },
  {
   "cell_type": "markdown",
   "metadata": {
    "collapsed": true,
    "slideshow": {
     "slide_type": "slide"
    }
   },
   "source": [
    "# ORDER BY, TOP, LIMIT\n",
    "\n",
    "## Order By\n",
    "\n",
    "ORDER BY sorts the results according to the specified columns. Default is ascending, but you can use ASC/DESC to specify the ordering."
   ]
  },
  {
   "cell_type": "markdown",
   "metadata": {
    "slideshow": {
     "slide_type": "fragment"
    }
   },
   "source": [
    "## Example\n",
    "To retrieve items ordered by item cost:\n",
    "\n",
    "**SELECT itm_altdesc, itm_ucst01  \n",
    "FROM itmcat  \n",
    "ORDER BY itm_ucst01 DESC**"
   ]
  },
  {
   "cell_type": "markdown",
   "metadata": {
    "slideshow": {
     "slide_type": "subslide"
    }
   },
   "source": [
    "## TOP, LIMIT\n",
    "TOP and LIMIT (syntax depends on type of database) retrieve only the first x results or percent of results; good for checking results before requesting a very large query or in combination with the ORDER BY command.\n",
    "\n",
    "LIMIT is supported in MySQL and Oracle databases.\n",
    "\n",
    "TOP is supported by T-SQL."
   ]
  },
  {
   "cell_type": "markdown",
   "metadata": {
    "slideshow": {
     "slide_type": "fragment"
    }
   },
   "source": [
    "### Example\n",
    "\n",
    "To retrieve the ten most expensive items:\n",
    "\n",
    "**SELECT TOP 10 itm_altdesc  \n",
    "FROM itmcat  \n",
    "ORDER BY itm_ucst01 DESC**"
   ]
  },
  {
   "cell_type": "markdown",
   "metadata": {
    "collapsed": true,
    "slideshow": {
     "slide_type": "fragment"
    }
   },
   "source": [
    "To retrieve the top ten percent of products by price:\n",
    "\n",
    "**SELECT TOP 10 PERCENT itm_altdesc, itm_ucst01  \n",
    "FROM itmcat  \n",
    "ORDER BY itm_ucst01 DESC**"
   ]
  },
  {
   "cell_type": "markdown",
   "metadata": {
    "slideshow": {
     "slide_type": "subslide"
    }
   },
   "source": [
    "## Practice 6\n",
    "From the cstinv table, order the items by lasupd (descending) and then by cstctr (ascending). Return the first 1000 rows. "
   ]
  },
  {
   "cell_type": "markdown",
   "metadata": {
    "slideshow": {
     "slide_type": "slide"
    }
   },
   "source": [
    "# JOIN\n",
    "JOIN connects two tables where the specified columns match\n",
    "\n",
    "\n",
    "INNER JOIN - all rows where specified columns match (default)\n",
    "\n",
    "LEFT JOIN - all rows from left table and matching rows in right table\n",
    "\n",
    "RIGHT JOIN - all rows from right table and matching rows in left table\n",
    "\n",
    "FULL OUTER JOIN - all rows from left and right table\n",
    "\n",
    "ANTI-JOIN/EXCULDING JOIN - all the rows from the left/right table that are not included in the other table\n",
    "\n",
    "SELF JOIN - join one table with itself (uses same commands as other JOIN statements)\n",
    "\n",
    "<img src=\"Visual_SQL_JOINS_orig.jpg\"alt=\"Drawing\" style=\"width: 400px;\"/>\n",
    "<a href=\"https://www.codeproject.com/Articles/33052/Visual-Representation-of-SQL-Joins\" target=\"_blank\">Source</a>"
   ]
  },
  {
   "cell_type": "markdown",
   "metadata": {
    "slideshow": {
     "slide_type": "fragment"
    }
   },
   "source": [
    "## Example\n",
    "To retrieve all combinations of item names, services, and inventory locations:\n",
    "\n",
    "**SELECT itmcat.itm_altdesc, cstinv .inv_svcid, cstinv.inv_loct01, cstinv.inv_loct02, cstinv.inv_loct03  \n",
    "FROM itmcat  \n",
    "INNER JOIN cstinv  \n",
    "ON itmcat.itm_itemno = cstinv.inv_itemno**"
   ]
  },
  {
   "cell_type": "markdown",
   "metadata": {
    "slideshow": {
     "slide_type": "fragment"
    }
   },
   "source": [
    "To retrieve all combinations of item names, services, inventory locations, and sites:\n",
    "\n",
    "**SELECT itmcat.itm_altdesc, cstinv .inv_svcid, cstinv.inv_loct01, cstinv.inv_loct02, cstinv.inv_loct03, cstctr.ctr_site  \n",
    "FROM itmcat  \n",
    "INNER JOIN cstinv  \n",
    "ON itmcat.itm_itemno = cstinv.inv_itemno  \n",
    "INNER JOIN cstctr  \n",
    "ON cstinv.inv_cstctr = cstctr.ctr_cstctr**"
   ]
  },
  {
   "cell_type": "markdown",
   "metadata": {
    "slideshow": {
     "slide_type": "subslide"
    }
   },
   "source": [
    "### Primary keys\n",
    "A primary key is field that is a unique identifier to each record in a table. Each table can have only one primary key, but multiple columns can define a primary key (called a composite primary key).\n",
    "\n",
    "### Foreign Keys\n",
    "A foreign key is a field in a table that matches the primary key in a different table.\n",
    "The table with the foreign key is called the child table, while the table containing the primary key is called the parent table.\n",
    "\n",
    "Note: Foreign and primary keys are not required."
   ]
  },
  {
   "cell_type": "markdown",
   "metadata": {
    "slideshow": {
     "slide_type": "fragment"
    }
   },
   "source": [
    "You can check for primary keys and foreign keys in your table by going to the **Columns** or **Keys** node under your table of interest"
   ]
  },
  {
   "cell_type": "markdown",
   "metadata": {
    "slideshow": {
     "slide_type": "fragment"
    }
   },
   "source": [
    "### Example\n",
    "In the itmcat table, **itm_serial** could be considered the a primary key.  \n",
    "In the cstctr table, **ctr_cstctr** could be considered the primary key while **inv_cstctr** would be the foreign key in the cstinv table. "
   ]
  },
  {
   "cell_type": "markdown",
   "metadata": {
    "slideshow": {
     "slide_type": "subslide"
    }
   },
   "source": [
    "## Practice 7\n",
    "1. Return the product code, category and auxnum from the prdmas table with a column for the itemno (found in the itmcat table) included. Note: you can join itmcat with prdmas on the itm_procat and prd_code columns.\n",
    "\n",
    "2. Retrieve the item numbers of items that are used in surgical cases (table itmcat), but are not listed in the item inventory (table cstinv).\n",
    "\n",
    "3. Retrieve a list of any item number that is not null and that appears in inventory (cstinv) or for use in surgical cases (itmcat)."
   ]
  },
  {
   "cell_type": "markdown",
   "metadata": {
    "slideshow": {
     "slide_type": "slide"
    }
   },
   "source": [
    "# GROUP BY, HAVING\n",
    "\n",
    "## Group By\n",
    "GROUP BY groups the rows according to their values in the selected column and then uses an \"aggregate function\" to create a new column with information about each group (of rows). \n",
    "\n",
    "Example aggregate functions:\n",
    "- COUNT()\n",
    "- SUM()\n",
    "- MAX()\n",
    "- MIN()\n",
    "- AVG()"
   ]
  },
  {
   "cell_type": "markdown",
   "metadata": {
    "slideshow": {
     "slide_type": "fragment"
    }
   },
   "source": [
    "## Example\n",
    "To retrieve the total quantity on hand for every product in RCAT:\n",
    "\n",
    "**SELECT inv_itemno, SUM(inv_qtyohd)  \n",
    "FROM cstinv  \n",
    "GROUP BY inv_itemno**\n"
   ]
  },
  {
   "cell_type": "markdown",
   "metadata": {
    "slideshow": {
     "slide_type": "subslide"
    }
   },
   "source": [
    "## HAVING\n",
    "The HAVING command acts like a WHERE command for GROUP BY"
   ]
  },
  {
   "cell_type": "markdown",
   "metadata": {
    "slideshow": {
     "slide_type": "fragment"
    }
   },
   "source": [
    "## Example\n",
    "To retrieve the number of items per itm_ucst01 with a itm_ucst01 of more than 200:\n",
    "\n",
    "**SELECT itm_ucst01, COUNT(\\*) AS count  \n",
    "FROM itmcat  \n",
    "GROUP BY itm_ucst01  \n",
    "HAVING itm_ucst01 > 200**"
   ]
  },
  {
   "cell_type": "markdown",
   "metadata": {
    "slideshow": {
     "slide_type": "subslide"
    }
   },
   "source": [
    "## Practice 8\n",
    "1. Using the itmcat table, retrieve itm_patnum for items with an average weight (within each itm_patnum) of at least 10.  \n",
    "2. From the itmcat table, find the minimum and maximum average weights of items within each description type (itm_descrp)."
   ]
  },
  {
   "cell_type": "markdown",
   "metadata": {
    "slideshow": {
     "slide_type": "slide"
    }
   },
   "source": [
    "# UNION\n",
    "UNION combines the results of 2+ SELECT queries.\n",
    "\n",
    "Requirements: same number, type, and order of columns\n",
    "\n",
    "Default is only distinct results; use UNION ALL for all results"
   ]
  },
  {
   "cell_type": "markdown",
   "metadata": {
    "slideshow": {
     "slide_type": "fragment"
    }
   },
   "source": [
    "## Example\n",
    "To retrieve a combined list of product categories and item descriptions:\n",
    "\n",
    "**SELECT prd_catgry FROM prdmas  \n",
    "UNION ALL  \n",
    "SELECT itm_altdesc FROM itmcat**"
   ]
  },
  {
   "cell_type": "markdown",
   "metadata": {
    "slideshow": {
     "slide_type": "fragment"
    }
   },
   "source": [
    "To retrieve a combined list of product categories and item descriptions with duplicates removed:\n",
    "\n",
    "**SELECT prd_catgry FROM prdmas  \n",
    "UNION  \n",
    "SELECT itm_altdesc FROM itmcat**"
   ]
  },
  {
   "cell_type": "markdown",
   "metadata": {
    "slideshow": {
     "slide_type": "subslide"
    }
   },
   "source": [
    "## Practice 9\n",
    "Using the itmcat and cstinv tables, retrieve a list of all serial numbers and itm_procats or inv_svcids."
   ]
  },
  {
   "cell_type": "markdown",
   "metadata": {
    "slideshow": {
     "slide_type": "slide"
    }
   },
   "source": [
    "# Subqueries\n",
    "\n",
    "Subqueries are queries within a query. They allow you to query from more specific tables than are readily available to you. \n",
    "\n",
    "This technique can be used to count the number of distinct rows for multiple columns."
   ]
  },
  {
   "cell_type": "markdown",
   "metadata": {
    "slideshow": {
     "slide_type": "fragment"
    }
   },
   "source": [
    "## Example\n",
    "To get the number of items with a distinct combination of itm_procat and itm_mfgcod:\n",
    "\n",
    "**SELECT COUNT(*\\)  \n",
    "FROM  \n",
    "(SELECT DISTINCT itm_procat, itm_mfgcod  \n",
    "FROM itmcat)**\n",
    "        \n",
    "You can think of this as querying a table that you are not able to see. In this example, a table is made behind the scene that contains the results of **SELECT DISTINCT itm_procat, itm_mfgcod FROM itmcat** (a table that contains one row per unique pair of EmployeeID and ShipperID). From that table, you then query using the COUNT(*) command. \n",
    "\n",
    "Subqueries can also be used with a WHERE statement instead of a FROM statement."
   ]
  },
  {
   "cell_type": "markdown",
   "metadata": {
    "slideshow": {
     "slide_type": "subslide"
    }
   },
   "source": [
    "## Practice 10\n",
    "1. Using a subquery, retrieve the prd_code from the prdmas table that corresponds to products whose itm_purunt is \"BX\". (Hint: itmcat.itm_procat = prdmas.prd_code)\n",
    "2. Count the number of distinct pairs of itm_patnums and itm_descrp within the itmcat table.\n"
   ]
  },
  {
   "cell_type": "markdown",
   "metadata": {
    "slideshow": {
     "slide_type": "slide"
    }
   },
   "source": [
    "# Combining commands\n",
    "\n",
    "You can combine as many commands as you like to make your queries as specific as you require. Pay careful attention to the order of the commands."
   ]
  },
  {
   "cell_type": "markdown",
   "metadata": {
    "slideshow": {
     "slide_type": "fragment"
    }
   },
   "source": [
    "## Command order of operations\n",
    "SELECT (TOP), DISTINCT  \n",
    "FROM  \n",
    "WHERE (BETWEEN | LIKE | IN)  \n",
    "GROUP BY  \n",
    "HAVING  \n",
    "ORDER BY (ASC | DESC)   \n",
    "UNION (ALL)  "
   ]
  },
  {
   "cell_type": "markdown",
   "metadata": {
    "slideshow": {
     "slide_type": "subslide"
    }
   },
   "source": [
    "## Practice 11\n",
    "Retrieve a table with two columns: the inv_cstctr and the total cost of the items within each inv_cstctr."
   ]
  },
  {
   "cell_type": "markdown",
   "metadata": {
    "slideshow": {
     "slide_type": "slide"
    }
   },
   "source": [
    "# SQL Server Functions\n",
    "\n",
    "We've only talked about a few basic numeric functions in T-SQL.\n",
    "\n",
    "But there are a lot more dealing with strings, dates, data types etc. It can get pretty complicated if you want it to. The **Mathematical** and **Date and Time** functions are probably the ones you will probably start using most.\n",
    "\n",
    "Here is a link to an overview of the functions supported in T-SQL.  \n",
    "https://docs.microsoft.com/en-us/sql/t-sql/functions/functions?view=sql-server-2017"
   ]
  },
  {
   "cell_type": "markdown",
   "metadata": {
    "slideshow": {
     "slide_type": "slide"
    }
   },
   "source": [
    "# Food For Thought\n",
    "<IMG SRC=\"screenshot.png\" alt=\"Drawing\" style=\"width: 2000px;\">"
   ]
  },
  {
   "cell_type": "markdown",
   "metadata": {
    "slideshow": {
     "slide_type": "subslide"
    }
   },
   "source": [
    "<img src=\"foodforthought2.png\"alt=\"Drawing\" style=\"width: 400px;\"/>"
   ]
  },
  {
   "cell_type": "markdown",
   "metadata": {
    "slideshow": {
     "slide_type": "slide"
    }
   },
   "source": [
    "# More practice\n",
    "1. Return a table with the following 3 columns, item name, full product category name, and date added. Then, have the table sorted by date added with the most recently added at the top. \n",
    "2. Return a table with the following 3 columns, rcat number, item name, and quantity on hand, that are currently active. Then, return only the top 10 items based on quantity on hand in descending order for  UH and Mott.  \n",
    "3. Find the top 5 items with the highest unit cost, by using the the itm_ucst01 column.\n",
    "4. Count the number of distinct pairings of inv_stkunt and inv_cstctr for items with an inv_cstctr beginning with 'UH'.\n",
    "5. For items added between 2002 and 2010 that come from cstctr not starting with 'UH', how many product categories are there in each auxnum1 group? (Hints: prdmas.prd_code = itmcat.itm_procat, itmcat.itm_itemno = cstinv.inv_itemno)"
   ]
  },
  {
   "cell_type": "markdown",
   "metadata": {
    "slideshow": {
     "slide_type": "slide"
    }
   },
   "source": [
    "# Quiz\n",
    "Test your SQL knowledge here:\n",
    "https://goo.gl/forms/jgPcRXjX5QzDsQqE3"
   ]
  },
  {
   "cell_type": "code",
   "execution_count": null,
   "metadata": {},
   "outputs": [],
   "source": []
  }
 ],
 "metadata": {
  "anaconda-cloud": {},
  "celltoolbar": "Slideshow",
  "kernelspec": {
   "display_name": "Python 3",
   "language": "python",
   "name": "python3"
  },
  "language_info": {
   "codemirror_mode": {
    "name": "ipython",
    "version": 3
   },
   "file_extension": ".py",
   "mimetype": "text/x-python",
   "name": "python",
   "nbconvert_exporter": "python",
   "pygments_lexer": "ipython3",
   "version": "3.6.4"
  }
 },
 "nbformat": 4,
 "nbformat_minor": 1
}
